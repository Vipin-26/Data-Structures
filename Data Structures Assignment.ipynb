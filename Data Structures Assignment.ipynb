{
 "cells": [
  {
   "cell_type": "markdown",
   "id": "54e8ff3e",
   "metadata": {},
   "source": [
    "# Data Structures"
   ]
  },
  {
   "cell_type": "markdown",
   "id": "cb20e425",
   "metadata": {},
   "source": [
    "## Theoretical Questions"
   ]
  },
  {
   "cell_type": "markdown",
   "id": "658616a9",
   "metadata": {},
   "source": [
    "### Q1. What are data structures, and why are they important?\n",
    "- Data structures are specialized formats for organizing, processing, and storing data in computers. They define the way data is arranged in memory so that it can be used efficiently for various computational tasks.\n",
    "- Proper data structures reduce time and space complexity. They help manage and utilize memory effectively. Also, algorithms for sorting, searching, and optimization are built on data structures.\n",
    "\n",
    "### Q2. Explain the difference between mutable and immutable data types with example\n",
    "- Mutable data types can be changed after creation, like list, dict, or set. For example, .append() can be used to add items to a list.\n",
    "- Immutable data types cannot be changed once created, like int, str, or tuple. Any \"modification\" creates a new object instead.\n",
    "\n",
    "### Q3. What are the main differences between lists and tuples in Python?\n",
    "- The main difference between lists and tuples are :\n",
    "    - Mutability: Lists are mutable (can be changed), while tuples are immutable (cannot be changed).\n",
    "    - Syntax: Lists use square brackets [], and tuples use parentheses ().\n",
    "    - Performance: Tuples are generally faster and use less memory than lists.\n",
    "\n",
    "### Q4. Describe how dictionaries store data.\n",
    "- Dictionaries store data as key-value pairs. Each key is unique and maps to a value, allowing fast lookup using the key. Internally, dictionaries use a hash table, which makes access, insertion, and deletion operations efficient.\n",
    "\n",
    "### Q5. Why might you use a set instead of a list in Python?\n",
    "- Sets are used instead of a lists when it is needed to ensure that all elements are unique and require faster testing. Sets provide efficient operations for checking existence and automatically eliminate duplicate values.\n",
    "\n",
    "### Q6. What is a string in Python, and how is it different from a list?\n",
    "- A string is an immutable sequence of characters, used to represent text. Unlike a list, which can contain elements of any data type and can be modified, a string only holds characters and cannot be changed after creation.\n",
    "\n",
    "### Q7. How do tuples ensure data integrity in Python?\n",
    "- Tuples ensure data integrity by being immutable, meaning their contents cannot be changed after creation. This prevents accidental modification, making them ideal for storing constant or fixed data.\n",
    "\n",
    "### Q8. What is a hash table, and how does it relate to dictionaries in Python?\n",
    "- A hash table is a data structure that maps keys to values using a hash function to determine the index for storing data. In Python, dictionaries are implemented using hash tables, allowing for fast access, insertion, and deletion based on unique keys.\n",
    "\n",
    "### Q9. Can lists contain different data types in Python?\n",
    "- Yes, lists can contain elements of different data types. For example, a list can store integers, strings, and even other lists or objects in a single collection.\n",
    "\n",
    "### Q10. Explain why strings are immutable in Python.\n",
    "- Strings are immutable to ensure data integrity and efficiency. Since strings are widely used and often passed around in programs, making them immutable prevents accidental changes, which can lead to bugs. It also allows Python to optimize memory usage by reusing the same string objects instead of creating new ones.\n",
    "\n",
    "### Q11. What advantages do dictionaries offer over lists for certain tasks?\n",
    "- Dictionaries offer several advantages over lists, especially for tasks involving fast lookups and key-value mapping. They allow for O(1) average-time complexity for accessing values by keys, while lists require O(n) time for searching. Dictionaries are ideal when you need to associate unique keys with values, whereas lists are better suited for ordered collections of items.\n",
    "\n",
    "### Q12. Describe a scenario where using a tuple would be preferable over a list.\n",
    "- A tuple would be preferable over a list when the data is constant and should not be modified. For example, representing geographical coordinates (latitude, longitude) would be best using a tuple, as these values should remain unchanged. Using a tuple ensures data integrity and can improve performance due to its immutability.\n",
    "\n",
    "### Q13. How do sets handle duplicate values in Python?\n",
    "- Sets automatically remove duplicate values. When elements are added to a set, it only keeps unique values, ignoring any duplicates. This behavior ensures that each element in a set appears only once.\n",
    "\n",
    "### Q14. How does the “in” keyword work differently for lists and dictionaries?\n",
    "- For lists, the 'in' keyword checks if an element exists within the list by searching through all the items, whereas for dictionaries, the 'in' keyword checks if a key exists in the dictionary, which is much faster.\n",
    "\n",
    "### Q15. Can you modify the elements of a tuple? Explain why or why not.\n",
    "- No, the elements of a tuple cannot be modified because tuples are immutable. Once a tuple is created, its contents cannot be changed, which ensures data integrity and allows for optimizations in memory usage and performance. If modification is needed, a new tuple must be created.\n",
    "\n",
    "### Q16. What is a nested dictionary, and give an example of its use case?\n",
    "- A nested dictionary is a dictionary where the values themselves are dictionaries, allowing for a hierarchical structure.\n",
    "- For example:"
   ]
  },
  {
   "cell_type": "code",
   "execution_count": 3,
   "id": "0917d767",
   "metadata": {},
   "outputs": [
    {
     "name": "stdout",
     "output_type": "stream",
     "text": [
      "85\n"
     ]
    }
   ],
   "source": [
    "students = {\"Ram\": {\"age\": 15, \"grades\": {\"math\": 90, \"science\": 88}},\"Shyam\": {\"age\": 16, \"grades\": {\"math\": 85, \"science\": 92}}}\n",
    "print(students[\"Shyam\"][\"grades\"][\"math\"])"
   ]
  },
  {
   "cell_type": "markdown",
   "id": "ea809c52",
   "metadata": {},
   "source": [
    "### Q17. Describe the time complexity of accessing elements in a dictionary.\n",
    "- Accessing elements in a dictionary has an average-case time complexity of O(1) due to its underlying hash table structure. This means retrieving a value by its key is typically very fast.\n",
    "\n",
    "### Q18. In what situations are lists preferred over dictionaries?\n",
    "- Lists are preferred over dictionaries when the data is ordered, does not require unique keys, and needs to be accessed by position or index. They are ideal for sequential data, like a list of names, numbers, or items where the order matters and key-value pairing isn't necessary.\n",
    "\n",
    "### Q19. Why are dictionaries considered unordered, and how does that affect data retrieval?\n",
    "- Dictionaries were traditionally considered unordered because they didn't preserve the insertion order of keys. Data retrieval in dictionaries is based on key lookup, not position, meaning one can't access items by index like in a list. Instead, values are retrieved directly using their unique keys, which keeps lookups efficient and predictable.\n",
    "\n",
    "### Q20. Explain the difference between a list and a dictionary in terms of data retrieval.\n",
    "- The main difference in data retrieval is that a list uses index-based access (e.g., my_list[0]), meaning items are retrieved by their position. In contrast, a dictionary uses key-based access (e.g., my_dict[\"name\"]), allowing for fast lookups using unique keys rather than positions."
   ]
  },
  {
   "cell_type": "markdown",
   "id": "628e0b5b",
   "metadata": {},
   "source": [
    "## Practical Questions"
   ]
  },
  {
   "cell_type": "markdown",
   "id": "9cdc7c68",
   "metadata": {},
   "source": [
    "### Q1. Write a code to create a string with your name and print it."
   ]
  },
  {
   "cell_type": "code",
   "execution_count": 6,
   "id": "68028ef0",
   "metadata": {},
   "outputs": [
    {
     "name": "stdout",
     "output_type": "stream",
     "text": [
      "What is your name? Vipin Anand\n",
      "Your name is Vipin Anand\n"
     ]
    }
   ],
   "source": [
    "name = input('What is your name? ')\n",
    "print(f'Your name is {name}')"
   ]
  },
  {
   "cell_type": "markdown",
   "id": "a3161901",
   "metadata": {},
   "source": [
    "### Q2. Write a code to find the length of the string \"Hello World\"."
   ]
  },
  {
   "cell_type": "code",
   "execution_count": 7,
   "id": "a6553a83",
   "metadata": {},
   "outputs": [
    {
     "name": "stdout",
     "output_type": "stream",
     "text": [
      "11\n"
     ]
    }
   ],
   "source": [
    "text = 'Hello World'\n",
    "print(len(text))"
   ]
  },
  {
   "cell_type": "markdown",
   "id": "1f8f9633",
   "metadata": {},
   "source": [
    "### Q3. Write a code to slice the first 3 characters from the string \"Python Programming\"."
   ]
  },
  {
   "cell_type": "code",
   "execution_count": 10,
   "id": "777aa419",
   "metadata": {},
   "outputs": [
    {
     "name": "stdout",
     "output_type": "stream",
     "text": [
      "Pyt\n"
     ]
    }
   ],
   "source": [
    "text = 'Python Programming'\n",
    "first_3_letters = text[:3]\n",
    "print(first_3_letters)"
   ]
  },
  {
   "cell_type": "markdown",
   "id": "106fb41a",
   "metadata": {},
   "source": [
    "### Q4. Write a code to convert the string \"hello\" to uppercase."
   ]
  },
  {
   "cell_type": "code",
   "execution_count": 11,
   "id": "49c691f4",
   "metadata": {},
   "outputs": [
    {
     "name": "stdout",
     "output_type": "stream",
     "text": [
      "HELLO\n"
     ]
    }
   ],
   "source": [
    "text = 'hello'\n",
    "uppercase_text = text.upper()\n",
    "print(uppercase_text)"
   ]
  },
  {
   "cell_type": "markdown",
   "id": "cf6db14b",
   "metadata": {},
   "source": [
    "### Q5. Write a code to replace the word \"apple\" with \"orange\" in the string \"I like apple\""
   ]
  },
  {
   "cell_type": "code",
   "execution_count": 12,
   "id": "dd2eacea",
   "metadata": {},
   "outputs": [
    {
     "name": "stdout",
     "output_type": "stream",
     "text": [
      "I like orange\n"
     ]
    }
   ],
   "source": [
    "text = 'I like apple'\n",
    "new_text = text.replace('apple', 'orange')\n",
    "print(new_text)"
   ]
  },
  {
   "cell_type": "markdown",
   "id": "de6372e9",
   "metadata": {},
   "source": [
    "### Q6. Write a code to create a list with numbers 1 to 5 and print it."
   ]
  },
  {
   "cell_type": "code",
   "execution_count": 14,
   "id": "67e5b686",
   "metadata": {},
   "outputs": [
    {
     "name": "stdout",
     "output_type": "stream",
     "text": [
      "[1, 2, 3, 4, 5]\n"
     ]
    }
   ],
   "source": [
    "numbers = [1, 2, 3, 4, 5]\n",
    "print(numbers)"
   ]
  },
  {
   "cell_type": "markdown",
   "id": "f7b93012",
   "metadata": {},
   "source": [
    "### Q7. Write a code to append the number 10 to the list [1, 2, 3, 4]."
   ]
  },
  {
   "cell_type": "code",
   "execution_count": 15,
   "id": "42750139",
   "metadata": {},
   "outputs": [
    {
     "name": "stdout",
     "output_type": "stream",
     "text": [
      "[1, 2, 3, 4, 10]\n"
     ]
    }
   ],
   "source": [
    "numbers = [1, 2, 3, 4]\n",
    "numbers.append(10)\n",
    "print(numbers)"
   ]
  },
  {
   "cell_type": "markdown",
   "id": "72561b57",
   "metadata": {},
   "source": [
    "### Q8. Write a code to remove the number 3 from the list [1, 2, 3, 4, 5]."
   ]
  },
  {
   "cell_type": "code",
   "execution_count": 16,
   "id": "72b503b3",
   "metadata": {},
   "outputs": [
    {
     "name": "stdout",
     "output_type": "stream",
     "text": [
      "[1, 2, 4, 5]\n"
     ]
    }
   ],
   "source": [
    "numbers = [1, 2, 3, 4, 5]\n",
    "numbers.remove(3)\n",
    "print(numbers)"
   ]
  },
  {
   "cell_type": "markdown",
   "id": "d993e387",
   "metadata": {},
   "source": [
    "### Q9. Write a code to access the second element in the list ['a', 'b', 'c', 'd']."
   ]
  },
  {
   "cell_type": "code",
   "execution_count": 17,
   "id": "7ae63640",
   "metadata": {},
   "outputs": [
    {
     "name": "stdout",
     "output_type": "stream",
     "text": [
      "b\n"
     ]
    }
   ],
   "source": [
    "letters = ['a', 'b', 'c', 'd']\n",
    "second_element = letters[1]\n",
    "print(second_element)"
   ]
  },
  {
   "cell_type": "markdown",
   "id": "0e386842",
   "metadata": {},
   "source": [
    "### Q10. Write a code to reverse the list [10, 20, 30, 40, 50]."
   ]
  },
  {
   "cell_type": "code",
   "execution_count": 18,
   "id": "113b7043",
   "metadata": {},
   "outputs": [
    {
     "name": "stdout",
     "output_type": "stream",
     "text": [
      "[50, 40, 30, 20, 10]\n"
     ]
    }
   ],
   "source": [
    "numbers = [10, 20, 30, 40, 50]\n",
    "numbers.reverse()\n",
    "print(numbers)"
   ]
  },
  {
   "cell_type": "markdown",
   "id": "b36f6a6f",
   "metadata": {},
   "source": [
    "### Q11. Write a code to create a tuple with the elements 100, 200, 300 and print it."
   ]
  },
  {
   "cell_type": "code",
   "execution_count": 19,
   "id": "13b33434",
   "metadata": {},
   "outputs": [
    {
     "name": "stdout",
     "output_type": "stream",
     "text": [
      "(100, 200, 300)\n"
     ]
    }
   ],
   "source": [
    "my_tuple = (100, 200, 300)\n",
    "print(my_tuple)"
   ]
  },
  {
   "cell_type": "markdown",
   "id": "9e2c4a39",
   "metadata": {},
   "source": [
    "### Q12. Write a code to access the second-to-last element of the tuple ('red', 'green', 'blue', 'yellow')."
   ]
  },
  {
   "cell_type": "code",
   "execution_count": 20,
   "id": "61eb6246",
   "metadata": {},
   "outputs": [
    {
     "name": "stdout",
     "output_type": "stream",
     "text": [
      "blue\n"
     ]
    }
   ],
   "source": [
    "my_tuple = ('red', 'green', 'blue', 'yellow')\n",
    "print(my_tuple[-2])"
   ]
  },
  {
   "cell_type": "markdown",
   "id": "66f1b492",
   "metadata": {},
   "source": [
    "### Q13. Write a code to find the minimum number in the tuple (10, 20, 5, 15)."
   ]
  },
  {
   "cell_type": "code",
   "execution_count": 21,
   "id": "a937269a",
   "metadata": {},
   "outputs": [
    {
     "name": "stdout",
     "output_type": "stream",
     "text": [
      "5\n"
     ]
    }
   ],
   "source": [
    "my_tuple = (10, 20, 5, 15)\n",
    "print(min(my_tuple))"
   ]
  },
  {
   "cell_type": "markdown",
   "id": "04799a24",
   "metadata": {},
   "source": [
    "### Q14.  Write a code to find the index of the element \"cat\" in the tuple ('dog', 'cat', 'rabbit')."
   ]
  },
  {
   "cell_type": "code",
   "execution_count": 22,
   "id": "10ae5919",
   "metadata": {},
   "outputs": [
    {
     "name": "stdout",
     "output_type": "stream",
     "text": [
      "1\n"
     ]
    }
   ],
   "source": [
    "my_tuple = ('dog', 'cat', 'rabbit')\n",
    "print(my_tuple.index('cat'))"
   ]
  },
  {
   "cell_type": "markdown",
   "id": "841281d1",
   "metadata": {},
   "source": [
    "### Q15. Write a code to create a tuple containing three different fruits and check if \"kiwi\" is in it."
   ]
  },
  {
   "cell_type": "code",
   "execution_count": 23,
   "id": "e7d49971",
   "metadata": {},
   "outputs": [
    {
     "name": "stdout",
     "output_type": "stream",
     "text": [
      "False\n"
     ]
    }
   ],
   "source": [
    "fruits = ('apple', 'banana', 'cherry')\n",
    "is_kiwi_present = 'kiwi' in fruits\n",
    "print(is_kiwi_present)"
   ]
  },
  {
   "cell_type": "markdown",
   "id": "8ef9254c",
   "metadata": {},
   "source": [
    "### Q16.  Write a code to create a set with the elements 'a', 'b', 'c' and print it."
   ]
  },
  {
   "cell_type": "code",
   "execution_count": 24,
   "id": "6ba9f2e9",
   "metadata": {},
   "outputs": [
    {
     "name": "stdout",
     "output_type": "stream",
     "text": [
      "{'b', 'a', 'c'}\n"
     ]
    }
   ],
   "source": [
    "my_set = {'a', 'b', 'c'}\n",
    "print(my_set)"
   ]
  },
  {
   "cell_type": "markdown",
   "id": "f7ded107",
   "metadata": {},
   "source": [
    "### Q17. Write a code to clear all elements from the set {1, 2, 3, 4, 5}."
   ]
  },
  {
   "cell_type": "code",
   "execution_count": 25,
   "id": "a68215df",
   "metadata": {},
   "outputs": [
    {
     "name": "stdout",
     "output_type": "stream",
     "text": [
      "set()\n"
     ]
    }
   ],
   "source": [
    "my_set = {1, 2, 3, 4, 5}\n",
    "my_set.clear()\n",
    "print(my_set)"
   ]
  },
  {
   "cell_type": "markdown",
   "id": "052ef438",
   "metadata": {},
   "source": [
    "### Q18. Write a code to remove the element 4 from the set {1, 2, 3, 4}."
   ]
  },
  {
   "cell_type": "code",
   "execution_count": 26,
   "id": "78d108dc",
   "metadata": {},
   "outputs": [
    {
     "name": "stdout",
     "output_type": "stream",
     "text": [
      "{1, 2, 3}\n"
     ]
    }
   ],
   "source": [
    "my_set = {1, 2, 3, 4}\n",
    "my_set.remove(4)\n",
    "print(my_set)"
   ]
  },
  {
   "cell_type": "markdown",
   "id": "7fac7d4a",
   "metadata": {},
   "source": [
    "### Q19.  Write a code to find the union of two sets {1, 2, 3} and {3, 4, 5}."
   ]
  },
  {
   "cell_type": "code",
   "execution_count": 27,
   "id": "550882d5",
   "metadata": {},
   "outputs": [
    {
     "name": "stdout",
     "output_type": "stream",
     "text": [
      "{1, 2, 3, 4, 5}\n"
     ]
    }
   ],
   "source": [
    "set1 = {1, 2, 3}\n",
    "set2 = {3, 4, 5}\n",
    "union_set = set1.union(set2)\n",
    "print(union_set)"
   ]
  },
  {
   "cell_type": "markdown",
   "id": "29ba3efa",
   "metadata": {},
   "source": [
    "### Q20. Write a code to find the intersection of two sets {1, 2, 3} and {2, 3, 4}."
   ]
  },
  {
   "cell_type": "code",
   "execution_count": 28,
   "id": "036c0a98",
   "metadata": {},
   "outputs": [
    {
     "name": "stdout",
     "output_type": "stream",
     "text": [
      "{2, 3}\n"
     ]
    }
   ],
   "source": [
    "set1 = {1, 2, 3}\n",
    "set2 = {2, 3, 4}\n",
    "intersection_set = set1.intersection(set2)\n",
    "print(intersection_set)"
   ]
  },
  {
   "cell_type": "markdown",
   "id": "17ac6d82",
   "metadata": {},
   "source": [
    "### Q21. Write a code to create a dictionary with the keys \"name\", \"age\", and \"city\", and print it."
   ]
  },
  {
   "cell_type": "code",
   "execution_count": 29,
   "id": "47a3b171",
   "metadata": {},
   "outputs": [
    {
     "name": "stdout",
     "output_type": "stream",
     "text": [
      "{'name': 'Vipin', 'age': 24, 'city': 'Delhi'}\n"
     ]
    }
   ],
   "source": [
    "my_dict = {\n",
    "    'name': 'Vipin',\n",
    "    'age': 24,\n",
    "    'city': 'Delhi'\n",
    "}\n",
    "print(my_dict)"
   ]
  },
  {
   "cell_type": "markdown",
   "id": "1b9e2863",
   "metadata": {},
   "source": [
    "### Q22. Write a code to add a new key-value pair \"country\": \"USA\" to the dictionary {'name': 'John', 'age': 25}."
   ]
  },
  {
   "cell_type": "code",
   "execution_count": 30,
   "id": "67c1c5bb",
   "metadata": {},
   "outputs": [
    {
     "name": "stdout",
     "output_type": "stream",
     "text": [
      "{'name': 'John', 'age': 25, 'country': 'USA'}\n"
     ]
    }
   ],
   "source": [
    "my_dict = {'name': 'John', 'age': 25}\n",
    "my_dict['country'] = 'USA'\n",
    "print(my_dict)"
   ]
  },
  {
   "cell_type": "markdown",
   "id": "0a354567",
   "metadata": {},
   "source": [
    "### Q23. Write a code to access the value associated with the key \"name\" in the dictionary {'name': 'Alice', 'age': 30}."
   ]
  },
  {
   "cell_type": "code",
   "execution_count": 32,
   "id": "a6a2b10b",
   "metadata": {},
   "outputs": [
    {
     "name": "stdout",
     "output_type": "stream",
     "text": [
      "Alice\n"
     ]
    }
   ],
   "source": [
    "my_dict = {'name': 'Alice', 'age': 30}\n",
    "print(my_dict['name'])"
   ]
  },
  {
   "cell_type": "markdown",
   "id": "5d1d433f",
   "metadata": {},
   "source": [
    "### Q24. Write a code to remove the key \"age\" from the dictionary {'name': 'Bob', 'age': 22, 'city': 'New York'}."
   ]
  },
  {
   "cell_type": "code",
   "execution_count": 35,
   "id": "1318d758",
   "metadata": {},
   "outputs": [
    {
     "name": "stdout",
     "output_type": "stream",
     "text": [
      "{'name': 'Bob', 'city': 'New York'}\n"
     ]
    }
   ],
   "source": [
    "my_dict = {'name': 'Bob', 'age': 22, 'city': 'New York'}\n",
    "my_dict.pop('age')\n",
    "print(my_dict)"
   ]
  },
  {
   "cell_type": "markdown",
   "id": "0949bd85",
   "metadata": {},
   "source": [
    "### Q25. Write a code to check if the key \"city\" exists in the dictionary {'name': 'Alice', 'city': 'Paris'}."
   ]
  },
  {
   "cell_type": "code",
   "execution_count": 36,
   "id": "b52754f8",
   "metadata": {},
   "outputs": [
    {
     "name": "stdout",
     "output_type": "stream",
     "text": [
      "True\n"
     ]
    }
   ],
   "source": [
    "my_dict = {'name': 'Alice', 'city': 'Paris'}\n",
    "key_exists = 'city' in my_dict\n",
    "print(key_exists)"
   ]
  },
  {
   "cell_type": "markdown",
   "id": "bfe965bc",
   "metadata": {},
   "source": [
    "### Q26.  Write a code to create a list, a tuple, and a dictionary, and print them all."
   ]
  },
  {
   "cell_type": "code",
   "execution_count": 37,
   "id": "3160f887",
   "metadata": {},
   "outputs": [
    {
     "name": "stdout",
     "output_type": "stream",
     "text": [
      "List: [1, 2, 3, 4, 5]\n",
      "Tuple: ('apple', 'banana', 'cherry')\n",
      "Dictionary: {'name': 'Alice', 'age': 25, 'city': 'Paris'}\n"
     ]
    }
   ],
   "source": [
    "my_list = [1, 2, 3, 4, 5]\n",
    "\n",
    "my_tuple = ('apple', 'banana', 'cherry')\n",
    "\n",
    "my_dict = {'name': 'Alice', 'age': 25, 'city': 'Paris'}\n",
    "\n",
    "print(\"List:\", my_list)\n",
    "print(\"Tuple:\", my_tuple)\n",
    "print(\"Dictionary:\", my_dict)"
   ]
  },
  {
   "cell_type": "markdown",
   "id": "269652df",
   "metadata": {},
   "source": [
    "### Q 27.  Write a code to create a list of 5 random numbers between 1 and 100, sort it in ascending order, and print the result (replaced)."
   ]
  },
  {
   "cell_type": "code",
   "execution_count": 38,
   "id": "3b93fbdd",
   "metadata": {},
   "outputs": [
    {
     "name": "stdout",
     "output_type": "stream",
     "text": [
      "[10, 22, 31, 75, 82]\n"
     ]
    }
   ],
   "source": [
    "import random\n",
    "\n",
    "random_numbers = random.sample(range(1, 101), 5)\n",
    "\n",
    "random_numbers.sort()\n",
    "\n",
    "print(random_numbers)"
   ]
  },
  {
   "cell_type": "markdown",
   "id": "0805f2df",
   "metadata": {},
   "source": [
    "### Q28. Write a code to create a list with strings and print the element at the third index."
   ]
  },
  {
   "cell_type": "code",
   "execution_count": 39,
   "id": "97f5d8b8",
   "metadata": {},
   "outputs": [
    {
     "name": "stdout",
     "output_type": "stream",
     "text": [
      "date\n"
     ]
    }
   ],
   "source": [
    "my_list = ['apple', 'banana', 'cherry', 'date', 'elderberry']\n",
    "\n",
    "print(my_list[3])"
   ]
  },
  {
   "cell_type": "markdown",
   "id": "b5371c2d",
   "metadata": {},
   "source": [
    "### Q29.  Write a code to combine two dictionaries into one and print the result."
   ]
  },
  {
   "cell_type": "code",
   "execution_count": 40,
   "id": "660c2746",
   "metadata": {},
   "outputs": [
    {
     "name": "stdout",
     "output_type": "stream",
     "text": [
      "{'name': 'Alice', 'age': 25, 'city': 'Paris', 'country': 'France'}\n"
     ]
    }
   ],
   "source": [
    "dict1 = {'name': 'Alice', 'age': 25}\n",
    "dict2 = {'city': 'Paris', 'country': 'France'}\n",
    "\n",
    "combined_dict = {**dict1, **dict2}\n",
    "\n",
    "print(combined_dict)"
   ]
  },
  {
   "cell_type": "markdown",
   "id": "be606cca",
   "metadata": {},
   "source": [
    "### Q30. Write a code to convert a list of strings into a set."
   ]
  },
  {
   "cell_type": "code",
   "execution_count": 41,
   "id": "875484d1",
   "metadata": {},
   "outputs": [
    {
     "name": "stdout",
     "output_type": "stream",
     "text": [
      "{'cherry', 'apple', 'banana'}\n"
     ]
    }
   ],
   "source": [
    "string_list = ['apple', 'banana', 'cherry', 'apple', 'banana']\n",
    "\n",
    "string_set = set(string_list)\n",
    "\n",
    "print(string_set)"
   ]
  }
 ],
 "metadata": {
  "kernelspec": {
   "display_name": "Python 3 (ipykernel)",
   "language": "python",
   "name": "python3"
  },
  "language_info": {
   "codemirror_mode": {
    "name": "ipython",
    "version": 3
   },
   "file_extension": ".py",
   "mimetype": "text/x-python",
   "name": "python",
   "nbconvert_exporter": "python",
   "pygments_lexer": "ipython3",
   "version": "3.9.13"
  }
 },
 "nbformat": 4,
 "nbformat_minor": 5
}
